{
 "cells": [
  {
   "cell_type": "code",
   "execution_count": 2,
   "id": "35fea18b-0db1-487e-badc-82f8c2b84d66",
   "metadata": {},
   "outputs": [],
   "source": [
    "#answer 1"
   ]
  },
  {
   "cell_type": "code",
   "execution_count": 3,
   "id": "1e1557c1-74d9-4fab-8e5b-2e4268b024f6",
   "metadata": {},
   "outputs": [],
   "source": [
    "#A for loop is a control flow statement that executes code repeatedly for a particular number of iterations. In this control flow statement, the keyword used is for. The for loop is used when the number of iterations is already known."
   ]
  },
  {
   "cell_type": "code",
   "execution_count": 4,
   "id": "df5fe120-fd3c-4840-a947-e5af05622499",
   "metadata": {},
   "outputs": [
    {
     "name": "stdout",
     "output_type": "stream",
     "text": [
      "1\n",
      "2\n",
      "3\n"
     ]
    }
   ],
   "source": [
    "n = [1, 2, 3] \n",
    "for i in n: \n",
    "    print(i)"
   ]
  },
  {
   "cell_type": "code",
   "execution_count": 5,
   "id": "b3994bff-9904-43d8-a099-dba4d8ee6c74",
   "metadata": {},
   "outputs": [],
   "source": [
    "#A loop that executes a single statement or a group of statements for the given true condition. The keyword used to represent this loop is \"while\". A \"while\" loop is used when the number of iterations is unknown. The statement repeats itself till the boolean value becomes false. In a while loop, the condition is tested at the start, also known as the pre-test loop."
   ]
  },
  {
   "cell_type": "code",
   "execution_count": 7,
   "id": "936a855c-424d-48a9-9291-3bc0c60e146b",
   "metadata": {},
   "outputs": [
    {
     "name": "stdout",
     "output_type": "stream",
     "text": [
      "1\n",
      "2\n",
      "3\n",
      "4\n",
      "5\n"
     ]
    }
   ],
   "source": [
    "i = 1  # Initialization\n",
    "while i < 6:  # Condition\n",
    "    print(i)\n",
    "    i += 1  # Updation"
   ]
  },
  {
   "cell_type": "code",
   "execution_count": 8,
   "id": "c38bd335-fb9e-457b-adcf-8510777ba173",
   "metadata": {},
   "outputs": [],
   "source": [
    "#Answer2"
   ]
  },
  {
   "cell_type": "code",
   "execution_count": 9,
   "id": "d8cba44d-02d7-4de0-ba46-b50296b954a1",
   "metadata": {},
   "outputs": [
    {
     "name": "stdout",
     "output_type": "stream",
     "text": [
      "Sum is 55\n"
     ]
    }
   ],
   "source": [
    "sum_to_10 = 0 \n",
    "for i in range(1, 11): \n",
    "    sum_to_10 += i \n",
    "print(\"Sum is\", sum_to_10) "
   ]
  },
  {
   "cell_type": "code",
   "execution_count": 10,
   "id": "d428098f-6fb6-4711-a177-724e23f0b9e4",
   "metadata": {},
   "outputs": [],
   "source": [
    "#Answer3"
   ]
  },
  {
   "cell_type": "code",
   "execution_count": 11,
   "id": "efa081e8-23ff-480b-8b2a-e1554ebbbcb7",
   "metadata": {},
   "outputs": [
    {
     "name": "stdin",
     "output_type": "stream",
     "text": [
      "Enter the number of units consumed:  310\n"
     ]
    },
    {
     "name": "stdout",
     "output_type": "stream",
     "text": [
      "The total electricity bill is: Rs. 2250.0\n"
     ]
    }
   ],
   "source": [
    "def calculate_bill(units):\n",
    "    if units <= 100:\n",
    "        return units * 4.5\n",
    "    elif units <= 200:\n",
    "        return (100 * 4.5) + ((units - 100) * 6)\n",
    "    elif units <= 300:\n",
    "        return (100 * 4.5) + (100 * 6) + ((units - 200) * 10)\n",
    "    else:\n",
    "        return (100 * 4.5) + (100 * 6) + (100 * 10) + ((units - 300) * 20)\n",
    "\n",
    "units = int(input(\"Enter the number of units consumed: \"))\n",
    "bill = calculate_bill(units)\n",
    "print(\"The total electricity bill is: Rs.\", bill)\n"
   ]
  },
  {
   "cell_type": "code",
   "execution_count": 12,
   "id": "c2b96a63-781f-4465-9f10-bb03e6475e8d",
   "metadata": {},
   "outputs": [],
   "source": [
    "#Answeer4"
   ]
  },
  {
   "cell_type": "code",
   "execution_count": 14,
   "id": "a3cbe20e-007b-4cbf-9d02-69a765cb509e",
   "metadata": {},
   "outputs": [
    {
     "name": "stdout",
     "output_type": "stream",
     "text": [
      "Using for loop: [8, 64, 125, 216, 512, 1000, 1728, 2744, 3375, 4096, 5832, 8000, 10648, 13824, 15625, 17576, 21952, 27000, 32768, 39304, 42875, 46656, 54872, 64000, 74088, 85184, 91125, 97336, 110592, 125000, 140608, 157464, 166375, 175616, 195112, 216000, 238328, 262144, 274625, 287496, 314432, 343000, 373248, 405224, 421875, 438976, 474552, 512000, 551368, 592704, 614125, 636056, 681472, 729000, 778688, 830584, 857375, 884736, 941192, 1000000]\n"
     ]
    }
   ],
   "source": [
    "# Using for loop\n",
    "cubes_for = []\n",
    "for i in range(1, 101):\n",
    "    cube = i**3\n",
    "    if cube % 4 == 0 or cube % 5 == 0:\n",
    "        cubes_for.append(cube)\n",
    "print(\"Using for loop:\", cubes_for)"
   ]
  },
  {
   "cell_type": "code",
   "execution_count": null,
   "id": "1ab39da1-c37d-473e-ae20-bf6865443beb",
   "metadata": {},
   "outputs": [],
   "source": []
  }
 ],
 "metadata": {
  "kernelspec": {
   "display_name": "Python 3 (ipykernel)",
   "language": "python",
   "name": "python3"
  },
  "language_info": {
   "codemirror_mode": {
    "name": "ipython",
    "version": 3
   },
   "file_extension": ".py",
   "mimetype": "text/x-python",
   "name": "python",
   "nbconvert_exporter": "python",
   "pygments_lexer": "ipython3",
   "version": "3.10.8"
  }
 },
 "nbformat": 4,
 "nbformat_minor": 5
}
